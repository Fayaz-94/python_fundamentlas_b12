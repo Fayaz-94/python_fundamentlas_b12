{
 "cells": [
  {
   "cell_type": "code",
   "execution_count": 5,
   "metadata": {},
   "outputs": [],
   "source": [
    "#introduction to for loops:"
   ]
  },
  {
   "cell_type": "code",
   "execution_count": 2,
   "metadata": {},
   "outputs": [
    {
     "name": "stdout",
     "output_type": "stream",
     "text": [
      "['bhavani', 'zakir', 'ranga', 'divya', 'srinivas', 'suresh', 'mohan']\n"
     ]
    }
   ],
   "source": [
    "my_students = ['bhavani','zakir','ranga','divya','srinivas','suresh','mohan']\n",
    "\n",
    "print(my_students)"
   ]
  },
  {
   "cell_type": "code",
   "execution_count": 3,
   "metadata": {},
   "outputs": [
    {
     "data": {
      "text/plain": [
       "list"
      ]
     },
     "execution_count": 3,
     "metadata": {},
     "output_type": "execute_result"
    }
   ],
   "source": [
    "type(my_students)"
   ]
  },
  {
   "cell_type": "code",
   "execution_count": null,
   "metadata": {},
   "outputs": [],
   "source": []
  },
  {
   "cell_type": "code",
   "execution_count": null,
   "metadata": {},
   "outputs": [],
   "source": [
    "#writing a for loop:\n",
    "\n",
    "for ---> temp var and then main variable ----> take care of the indentation:\n",
    "    print(temp var)\n",
    "    \n",
    "    iteration ----->"
   ]
  },
  {
   "cell_type": "code",
   "execution_count": 8,
   "metadata": {},
   "outputs": [
    {
     "name": "stdout",
     "output_type": "stream",
     "text": [
      "bhavani\n",
      "zakir\n",
      "ranga\n",
      "divya\n",
      "srinivas\n",
      "suresh\n",
      "mohan\n"
     ]
    }
   ],
   "source": [
    "for batman in my_students:\n",
    "    print(batman)"
   ]
  },
  {
   "cell_type": "code",
   "execution_count": null,
   "metadata": {},
   "outputs": [],
   "source": []
  },
  {
   "cell_type": "code",
   "execution_count": null,
   "metadata": {},
   "outputs": [],
   "source": [
    "#enhancment of the foor loop:\n",
    "\n",
    "#automating the print statements.\n",
    "\n",
    "#indented part."
   ]
  },
  {
   "cell_type": "code",
   "execution_count": null,
   "metadata": {},
   "outputs": [],
   "source": []
  },
  {
   "cell_type": "code",
   "execution_count": 9,
   "metadata": {},
   "outputs": [
    {
     "name": "stdout",
     "output_type": "stream",
     "text": [
      "['bhavani', 'zakir', 'ranga', 'divya', 'srinivas', 'suresh', 'mohan']\n"
     ]
    }
   ],
   "source": [
    "my_students = ['bhavani','zakir','ranga','divya','srinivas','suresh','mohan']\n",
    "\n",
    "print(my_students)"
   ]
  },
  {
   "cell_type": "code",
   "execution_count": null,
   "metadata": {},
   "outputs": [],
   "source": [
    "#req: automate the print statement for every one!"
   ]
  },
  {
   "cell_type": "code",
   "execution_count": 10,
   "metadata": {},
   "outputs": [
    {
     "name": "stdout",
     "output_type": "stream",
     "text": [
      "Bhavani, good job for completing the practise regulary!!\n",
      "Zakir, good job for completing the practise regulary!!\n",
      "Ranga, good job for completing the practise regulary!!\n",
      "Divya, good job for completing the practise regulary!!\n",
      "Srinivas, good job for completing the practise regulary!!\n",
      "Suresh, good job for completing the practise regulary!!\n",
      "Mohan, good job for completing the practise regulary!!\n"
     ]
    }
   ],
   "source": [
    "for x in my_students:\n",
    "    print(f\"{x.title()}, good job for completing the practise regulary!!\")\n",
    "    \n",
    "    "
   ]
  },
  {
   "cell_type": "code",
   "execution_count": null,
   "metadata": {},
   "outputs": [],
   "source": []
  },
  {
   "cell_type": "code",
   "execution_count": 11,
   "metadata": {},
   "outputs": [
    {
     "name": "stdout",
     "output_type": "stream",
     "text": [
      "['harsha', 'krishna', 'siressha', 'vijaya', 'sahil', 'poojitha']\n"
     ]
    }
   ],
   "source": [
    "new_students = ['harsha','krishna','siressha','vijaya','sahil','poojitha']\n",
    "\n",
    "print(new_students)"
   ]
  },
  {
   "cell_type": "code",
   "execution_count": null,
   "metadata": {},
   "outputs": [],
   "source": []
  },
  {
   "cell_type": "code",
   "execution_count": 12,
   "metadata": {},
   "outputs": [
    {
     "name": "stdout",
     "output_type": "stream",
     "text": [
      "Thanks for joining the session on time, Harsha\n",
      "Thanks for joining the session on time, Krishna\n",
      "Thanks for joining the session on time, Siressha\n",
      "Thanks for joining the session on time, Vijaya\n",
      "Thanks for joining the session on time, Sahil\n",
      "Thanks for joining the session on time, Poojitha\n"
     ]
    }
   ],
   "source": [
    "for student in new_students:\n",
    "    print(f\"Thanks for joining the session on time, {student.title()}\")"
   ]
  },
  {
   "cell_type": "code",
   "execution_count": 16,
   "metadata": {},
   "outputs": [
    {
     "name": "stdout",
     "output_type": "stream",
     "text": [
      "Thanks for joining the session on time, Harsha\n",
      "Thanks for joining the session on time, Krishna\n",
      "Thanks for joining the session on time, Siressha\n",
      "Thanks for joining the session on time, Vijaya\n",
      "Thanks for joining the session on time, Sahil\n",
      "Thanks for joining the session on time, Poojitha\n",
      "\n",
      "Thanks everyone for showing intrest in learning python\n"
     ]
    }
   ],
   "source": [
    "#further enhancemnets of the code:\n",
    "\n",
    "for student in new_students:\n",
    "    print(f\"Thanks for joining the session on time, {student.title()}\")\n",
    "    \n",
    "print('\\nThanks everyone for showing intrest in learning python')\n"
   ]
  },
  {
   "cell_type": "code",
   "execution_count": null,
   "metadata": {},
   "outputs": [],
   "source": []
  },
  {
   "cell_type": "code",
   "execution_count": 18,
   "metadata": {},
   "outputs": [
    {
     "name": "stdout",
     "output_type": "stream",
     "text": [
      "1\n",
      "2\n",
      "3\n",
      "4\n",
      "5\n",
      "6\n",
      "7\n",
      "8\n",
      "9\n",
      "10\n",
      "11\n",
      "12\n",
      "13\n",
      "14\n",
      "15\n",
      "16\n",
      "17\n",
      "18\n",
      "19\n",
      "20\n",
      "21\n",
      "22\n",
      "23\n",
      "24\n",
      "25\n",
      "26\n",
      "27\n",
      "28\n",
      "29\n",
      "30\n",
      "31\n",
      "32\n",
      "33\n",
      "34\n",
      "35\n",
      "36\n",
      "37\n",
      "38\n",
      "39\n",
      "40\n",
      "41\n",
      "42\n",
      "43\n",
      "44\n",
      "45\n",
      "46\n",
      "47\n",
      "48\n",
      "49\n"
     ]
    }
   ],
   "source": [
    "#Making a numerical list:\n",
    "\n",
    "#last value in the range is always exclusive ----> 10\n",
    "\n",
    "for value in range(1,50):\n",
    "    print(value)"
   ]
  },
  {
   "cell_type": "code",
   "execution_count": 20,
   "metadata": {},
   "outputs": [
    {
     "name": "stdout",
     "output_type": "stream",
     "text": [
      "[1, 2, 3, 4, 5, 6, 7, 8, 9, 10, 11, 12, 13, 14, 15, 16, 17, 18, 19, 20, 21, 22, 23, 24, 25, 26, 27, 28, 29]\n"
     ]
    }
   ],
   "source": [
    "#how to use the range to make a list of numbers:\n",
    "\n",
    "numbers = list(range(1,30))\n",
    "\n",
    "print(numbers)"
   ]
  },
  {
   "cell_type": "code",
   "execution_count": null,
   "metadata": {},
   "outputs": [],
   "source": [
    "#range is also having a step count validation:"
   ]
  },
  {
   "cell_type": "code",
   "execution_count": null,
   "metadata": {},
   "outputs": [],
   "source": [
    "#req: want to print only even numbers from 1,50 by using the range:"
   ]
  },
  {
   "cell_type": "code",
   "execution_count": 22,
   "metadata": {},
   "outputs": [
    {
     "name": "stdout",
     "output_type": "stream",
     "text": [
      "[2, 4, 6, 8, 10, 12, 14, 16, 18, 20, 22, 24, 26, 28, 30, 32, 34, 36, 38, 40, 42, 44, 46, 48, 50]\n"
     ]
    }
   ],
   "source": [
    "even_num =list(range(2,51,2))\n",
    "\n",
    "\n",
    "print(even_num)"
   ]
  },
  {
   "cell_type": "code",
   "execution_count": null,
   "metadata": {},
   "outputs": [],
   "source": []
  },
  {
   "cell_type": "code",
   "execution_count": null,
   "metadata": {},
   "outputs": [],
   "source": []
  },
  {
   "cell_type": "code",
   "execution_count": null,
   "metadata": {},
   "outputs": [],
   "source": []
  }
 ],
 "metadata": {
  "kernelspec": {
   "display_name": "Python 3",
   "language": "python",
   "name": "python3"
  },
  "language_info": {
   "codemirror_mode": {
    "name": "ipython",
    "version": 3
   },
   "file_extension": ".py",
   "mimetype": "text/x-python",
   "name": "python",
   "nbconvert_exporter": "python",
   "pygments_lexer": "ipython3",
   "version": "3.7.4"
  }
 },
 "nbformat": 4,
 "nbformat_minor": 2
}
